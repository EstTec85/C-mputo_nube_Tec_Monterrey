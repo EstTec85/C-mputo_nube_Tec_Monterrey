{
  "nbformat": 4,
  "nbformat_minor": 0,
  "metadata": {
    "colab": {
      "provenance": [],
      "authorship_tag": "ABX9TyNSlpg6mJOdXrsWCJo4S2Aj",
      "include_colab_link": true
    },
    "kernelspec": {
      "name": "python3",
      "display_name": "Python 3"
    },
    "language_info": {
      "name": "python"
    }
  },
  "cells": [
    {
      "cell_type": "markdown",
      "metadata": {
        "id": "view-in-github",
        "colab_type": "text"
      },
      "source": [
        "<a href=\"https://colab.research.google.com/github/EstTec85/C-mputo_nube_Tec_Monterrey/blob/main/AI_aws_gcp.ipynb\" target=\"_parent\"><img src=\"https://colab.research.google.com/assets/colab-badge.svg\" alt=\"Open In Colab\"/></a>"
      ]
    },
    {
      "cell_type": "code",
      "source": [
        "# Importa la biblioteca de la API de Google Cloud Translation\n",
        "from google.cloud import translate_v2 as translate\n",
        "\n",
        "# Importa los módulos os y json que serán utilizados para la configuración de entorno y manipulación de JSON\n",
        "import os, json\n",
        "\n",
        "# Establece la variable de entorno para la autenticación de la API\n",
        "os.environ['GOOGLE_APPLICATION_CREDENTIALS'] = 'credentials.json'\n",
        "\n",
        "# Crear un cliente de traducción\n",
        "# Inicializa el cliente de la API de traducción\n",
        "translateClient = translate.Client()\n",
        "\n",
        "# Detectar el idioma de una cadena de texto\n",
        "\n",
        "# Llama al método para detectar el idioma del texto proporcionado\n",
        "detectedRes = translateClient.detect_language('Fantastisk arbeid')\n",
        "\n",
        "# Imprime el resultado de la detección de idioma\n",
        "print(detectedRes)\n",
        "\n",
        "# Traducir una cadena de texto del idioma detectado a español\n",
        "\n",
        "# Llama al método para traducir el texto al español\n",
        "transRes = translateClient.translate('Fantastisk arbeid', 'es')\n",
        "\n",
        "\n",
        " # Imprime el resultado de la traducción\n",
        "print(transRes)\n"
      ],
      "metadata": {
        "colab": {
          "base_uri": "https://localhost:8080/"
        },
        "id": "MHhAKiLy4xbx",
        "outputId": "9dce5cd5-8508-4824-9715-39276ad28366"
      },
      "execution_count": 3,
      "outputs": [
        {
          "output_type": "stream",
          "name": "stdout",
          "text": [
            "{'confidence': 1, 'language': 'no', 'input': 'Fantastisk arbeid'}\n",
            "{'translatedText': 'trabajo fantástico', 'detectedSourceLanguage': 'no', 'input': 'Fantastisk arbeid'}\n"
          ]
        }
      ]
    },
    {
      "cell_type": "code",
      "execution_count": 1,
      "metadata": {
        "colab": {
          "base_uri": "https://localhost:8080/"
        },
        "id": "73N1qi0L2SVZ",
        "outputId": "caf4d0ec-4c30-4f67-c56f-dc7d9a5edec4"
      },
      "outputs": [
        {
          "output_type": "stream",
          "name": "stdout",
          "text": [
            "Requirement already satisfied: google-cloud-translate in /usr/local/lib/python3.10/dist-packages (3.11.3)\n",
            "Requirement already satisfied: google-api-core[grpc]!=2.0.*,!=2.1.*,!=2.10.*,!=2.2.*,!=2.3.*,!=2.4.*,!=2.5.*,!=2.6.*,!=2.7.*,!=2.8.*,!=2.9.*,<3.0.0dev,>=1.34.0 in /usr/local/lib/python3.10/dist-packages (from google-cloud-translate) (2.11.1)\n",
            "Requirement already satisfied: google-cloud-core<3.0.0dev,>=1.3.0 in /usr/local/lib/python3.10/dist-packages (from google-cloud-translate) (2.3.3)\n",
            "Requirement already satisfied: proto-plus<2.0.0dev,>=1.22.0 in /usr/local/lib/python3.10/dist-packages (from google-cloud-translate) (1.23.0)\n",
            "Requirement already satisfied: protobuf!=3.20.0,!=3.20.1,!=4.21.0,!=4.21.1,!=4.21.2,!=4.21.3,!=4.21.4,!=4.21.5,<5.0.0dev,>=3.19.5 in /usr/local/lib/python3.10/dist-packages (from google-cloud-translate) (3.20.3)\n",
            "Requirement already satisfied: googleapis-common-protos<2.0.dev0,>=1.56.2 in /usr/local/lib/python3.10/dist-packages (from google-api-core[grpc]!=2.0.*,!=2.1.*,!=2.10.*,!=2.2.*,!=2.3.*,!=2.4.*,!=2.5.*,!=2.6.*,!=2.7.*,!=2.8.*,!=2.9.*,<3.0.0dev,>=1.34.0->google-cloud-translate) (1.62.0)\n",
            "Requirement already satisfied: google-auth<3.0.dev0,>=2.14.1 in /usr/local/lib/python3.10/dist-packages (from google-api-core[grpc]!=2.0.*,!=2.1.*,!=2.10.*,!=2.2.*,!=2.3.*,!=2.4.*,!=2.5.*,!=2.6.*,!=2.7.*,!=2.8.*,!=2.9.*,<3.0.0dev,>=1.34.0->google-cloud-translate) (2.27.0)\n",
            "Requirement already satisfied: requests<3.0.0.dev0,>=2.18.0 in /usr/local/lib/python3.10/dist-packages (from google-api-core[grpc]!=2.0.*,!=2.1.*,!=2.10.*,!=2.2.*,!=2.3.*,!=2.4.*,!=2.5.*,!=2.6.*,!=2.7.*,!=2.8.*,!=2.9.*,<3.0.0dev,>=1.34.0->google-cloud-translate) (2.31.0)\n",
            "Requirement already satisfied: grpcio<2.0dev,>=1.33.2 in /usr/local/lib/python3.10/dist-packages (from google-api-core[grpc]!=2.0.*,!=2.1.*,!=2.10.*,!=2.2.*,!=2.3.*,!=2.4.*,!=2.5.*,!=2.6.*,!=2.7.*,!=2.8.*,!=2.9.*,<3.0.0dev,>=1.34.0->google-cloud-translate) (1.62.0)\n",
            "Requirement already satisfied: grpcio-status<2.0.dev0,>=1.33.2 in /usr/local/lib/python3.10/dist-packages (from google-api-core[grpc]!=2.0.*,!=2.1.*,!=2.10.*,!=2.2.*,!=2.3.*,!=2.4.*,!=2.5.*,!=2.6.*,!=2.7.*,!=2.8.*,!=2.9.*,<3.0.0dev,>=1.34.0->google-cloud-translate) (1.48.2)\n",
            "Requirement already satisfied: cachetools<6.0,>=2.0.0 in /usr/local/lib/python3.10/dist-packages (from google-auth<3.0.dev0,>=2.14.1->google-api-core[grpc]!=2.0.*,!=2.1.*,!=2.10.*,!=2.2.*,!=2.3.*,!=2.4.*,!=2.5.*,!=2.6.*,!=2.7.*,!=2.8.*,!=2.9.*,<3.0.0dev,>=1.34.0->google-cloud-translate) (5.3.3)\n",
            "Requirement already satisfied: pyasn1-modules>=0.2.1 in /usr/local/lib/python3.10/dist-packages (from google-auth<3.0.dev0,>=2.14.1->google-api-core[grpc]!=2.0.*,!=2.1.*,!=2.10.*,!=2.2.*,!=2.3.*,!=2.4.*,!=2.5.*,!=2.6.*,!=2.7.*,!=2.8.*,!=2.9.*,<3.0.0dev,>=1.34.0->google-cloud-translate) (0.3.0)\n",
            "Requirement already satisfied: rsa<5,>=3.1.4 in /usr/local/lib/python3.10/dist-packages (from google-auth<3.0.dev0,>=2.14.1->google-api-core[grpc]!=2.0.*,!=2.1.*,!=2.10.*,!=2.2.*,!=2.3.*,!=2.4.*,!=2.5.*,!=2.6.*,!=2.7.*,!=2.8.*,!=2.9.*,<3.0.0dev,>=1.34.0->google-cloud-translate) (4.9)\n",
            "Requirement already satisfied: charset-normalizer<4,>=2 in /usr/local/lib/python3.10/dist-packages (from requests<3.0.0.dev0,>=2.18.0->google-api-core[grpc]!=2.0.*,!=2.1.*,!=2.10.*,!=2.2.*,!=2.3.*,!=2.4.*,!=2.5.*,!=2.6.*,!=2.7.*,!=2.8.*,!=2.9.*,<3.0.0dev,>=1.34.0->google-cloud-translate) (3.3.2)\n",
            "Requirement already satisfied: idna<4,>=2.5 in /usr/local/lib/python3.10/dist-packages (from requests<3.0.0.dev0,>=2.18.0->google-api-core[grpc]!=2.0.*,!=2.1.*,!=2.10.*,!=2.2.*,!=2.3.*,!=2.4.*,!=2.5.*,!=2.6.*,!=2.7.*,!=2.8.*,!=2.9.*,<3.0.0dev,>=1.34.0->google-cloud-translate) (3.6)\n",
            "Requirement already satisfied: urllib3<3,>=1.21.1 in /usr/local/lib/python3.10/dist-packages (from requests<3.0.0.dev0,>=2.18.0->google-api-core[grpc]!=2.0.*,!=2.1.*,!=2.10.*,!=2.2.*,!=2.3.*,!=2.4.*,!=2.5.*,!=2.6.*,!=2.7.*,!=2.8.*,!=2.9.*,<3.0.0dev,>=1.34.0->google-cloud-translate) (2.0.7)\n",
            "Requirement already satisfied: certifi>=2017.4.17 in /usr/local/lib/python3.10/dist-packages (from requests<3.0.0.dev0,>=2.18.0->google-api-core[grpc]!=2.0.*,!=2.1.*,!=2.10.*,!=2.2.*,!=2.3.*,!=2.4.*,!=2.5.*,!=2.6.*,!=2.7.*,!=2.8.*,!=2.9.*,<3.0.0dev,>=1.34.0->google-cloud-translate) (2024.2.2)\n",
            "Requirement already satisfied: pyasn1<0.6.0,>=0.4.6 in /usr/local/lib/python3.10/dist-packages (from pyasn1-modules>=0.2.1->google-auth<3.0.dev0,>=2.14.1->google-api-core[grpc]!=2.0.*,!=2.1.*,!=2.10.*,!=2.2.*,!=2.3.*,!=2.4.*,!=2.5.*,!=2.6.*,!=2.7.*,!=2.8.*,!=2.9.*,<3.0.0dev,>=1.34.0->google-cloud-translate) (0.5.1)\n"
          ]
        }
      ],
      "source": [
        "!pip install google-cloud-translate"
      ]
    },
    {
      "cell_type": "code",
      "source": [
        "from google.cloud import translate_v2 as translate\n",
        "import os\n",
        "\n",
        "# Establece la variable de entorno para la autenticación de la API\n",
        "os.environ['GOOGLE_APPLICATION_CREDENTIALS'] = 'credentials.json'\n",
        "\n",
        "# Inicializa el cliente de la API de traducción\n",
        "translate_client = translate.Client()\n",
        "\n",
        "# Lista de frases para traducir\n",
        "phrases = [\n",
        "    ('La vida es bella', 'es', 'en'),  # Español a Inglés\n",
        "    ('Leben ist schön', 'de', 'es'),   # Alemán a Español\n",
        "    ('Život je krásný', 'cs', 'es'),   # Checo a Español\n",
        "    ('A vida é bela', 'pt', 'es'),     # Portugués a Español\n",
        "    ('La vida es bella', 'es', 'fr'),  # Español a Francés\n",
        "]\n",
        "\n",
        "# Bucle para traducir cada frase\n",
        "for phrase, source_lang, target_lang in phrases:\n",
        "    # Traducir la frase\n",
        "    translation = translate_client.translate(phrase, source_language=source_lang, target_language=target_lang)\n",
        "\n",
        "    # Imprimir la frase original y la traducción\n",
        "    print(f'Original ({source_lang}): {phrase}')\n",
        "    print(f'Traducida ({target_lang}): {translation[\"translatedText\"]}')\n",
        "    print('---')\n"
      ],
      "metadata": {
        "colab": {
          "base_uri": "https://localhost:8080/"
        },
        "id": "St_RanDd6d_u",
        "outputId": "5c05e369-df0f-492c-d70c-0da70df199b6"
      },
      "execution_count": 4,
      "outputs": [
        {
          "output_type": "stream",
          "name": "stdout",
          "text": [
            "Original (es): La vida es bella\n",
            "Traducida (en): Life is Beautiful\n",
            "---\n",
            "Original (de): Leben ist schön\n",
            "Traducida (es): la vida es bella\n",
            "---\n",
            "Original (cs): Život je krásný\n",
            "Traducida (es): La vida es bella\n",
            "---\n",
            "Original (pt): A vida é bela\n",
            "Traducida (es): La vida es bella\n",
            "---\n",
            "Original (es): La vida es bella\n",
            "Traducida (fr): La vie est belle\n",
            "---\n"
          ]
        }
      ]
    },
    {
      "cell_type": "code",
      "source": [
        "import json, os, requests\n",
        "\n",
        "# Tu clave de suscripción para el servicio de reconocimiento facial de Azure\n",
        "subscription_key = \"pip install azure-cognitiveservices-vision-face\"\n",
        "\n",
        "# La URL del endpoint del servicio de reconocimiento facial de Azure\n",
        "face_api_url = \"https://facerecognitionmna24esteban.cognitiveservices.azure.com/\"\n",
        "\n",
        "# La URL de la imagen a analizar\n",
        "image_url = \"https://ruta_a_tu_imagen_en_internet.com/imagen.jpg\"\n",
        "\n",
        "# Los encabezados para la solicitud HTTP\n",
        "headers = {'Ocp-Apim-Subscription-Key': subscription_key}\n",
        "\n",
        "# Los parámetros para la solicitud HTTP\n",
        "params = {\n",
        "    'returnFaceId': 'true',\n",
        "    'returnFaceAttributes': 'age,gender,headPose,smile,facialHair,glasses,emotion',\n",
        "    'returnFaceLandmarks': 'true'\n",
        "    # 'returnFaceAttributes': 'age,gender,headPose,smile,facialHair,glasses,emotion',\n",
        "}\n",
        "\n",
        "# Envío de la solicitud POST al servicio de reconocimiento facial de Azure\n",
        "response = requests.post(face_api_url, params=params, headers=headers, json={\"url\": image_url})\n",
        "print(json.dumps(response.json()))\n"
      ],
      "metadata": {
        "colab": {
          "base_uri": "https://localhost:8080/"
        },
        "id": "WAL0g_X7_b0o",
        "outputId": "15d86872-7d24-4569-e16e-c4c4be14f1fb"
      },
      "execution_count": 22,
      "outputs": [
        {
          "output_type": "stream",
          "name": "stdout",
          "text": [
            "{\"error\": {\"code\": \"404\", \"message\": \"Resource not found\"}}\n"
          ]
        }
      ]
    },
    {
      "cell_type": "code",
      "source": [
        "pip install azure-cognitiveservices-vision-face\n"
      ],
      "metadata": {
        "colab": {
          "base_uri": "https://localhost:8080/"
        },
        "id": "oZZL8R3BC9Vc",
        "outputId": "f935ac49-d775-44cb-f932-1d518ff4aaac"
      },
      "execution_count": 9,
      "outputs": [
        {
          "output_type": "stream",
          "name": "stdout",
          "text": [
            "Collecting azure-cognitiveservices-vision-face\n",
            "  Downloading azure_cognitiveservices_vision_face-0.6.0-py2.py3-none-any.whl (67 kB)\n",
            "\u001b[2K     \u001b[90m━━━━━━━━━━━━━━━━━━━━━━━━━━━━━━━━━━━━━━━━\u001b[0m \u001b[32m67.7/67.7 kB\u001b[0m \u001b[31m2.3 MB/s\u001b[0m eta \u001b[36m0:00:00\u001b[0m\n",
            "\u001b[?25hCollecting msrest>=0.5.0 (from azure-cognitiveservices-vision-face)\n",
            "  Downloading msrest-0.7.1-py3-none-any.whl (85 kB)\n",
            "\u001b[2K     \u001b[90m━━━━━━━━━━━━━━━━━━━━━━━━━━━━━━━━━━━━━━━━\u001b[0m \u001b[32m85.4/85.4 kB\u001b[0m \u001b[31m6.2 MB/s\u001b[0m eta \u001b[36m0:00:00\u001b[0m\n",
            "\u001b[?25hCollecting azure-common~=1.1 (from azure-cognitiveservices-vision-face)\n",
            "  Downloading azure_common-1.1.28-py2.py3-none-any.whl (14 kB)\n",
            "Collecting azure-core>=1.24.0 (from msrest>=0.5.0->azure-cognitiveservices-vision-face)\n",
            "  Downloading azure_core-1.30.1-py3-none-any.whl (193 kB)\n",
            "\u001b[2K     \u001b[90m━━━━━━━━━━━━━━━━━━━━━━━━━━━━━━━━━━━━━━━━\u001b[0m \u001b[32m193.4/193.4 kB\u001b[0m \u001b[31m8.7 MB/s\u001b[0m eta \u001b[36m0:00:00\u001b[0m\n",
            "\u001b[?25hRequirement already satisfied: certifi>=2017.4.17 in /usr/local/lib/python3.10/dist-packages (from msrest>=0.5.0->azure-cognitiveservices-vision-face) (2024.2.2)\n",
            "Collecting isodate>=0.6.0 (from msrest>=0.5.0->azure-cognitiveservices-vision-face)\n",
            "  Downloading isodate-0.6.1-py2.py3-none-any.whl (41 kB)\n",
            "\u001b[2K     \u001b[90m━━━━━━━━━━━━━━━━━━━━━━━━━━━━━━━━━━━━━━━━\u001b[0m \u001b[32m41.7/41.7 kB\u001b[0m \u001b[31m5.2 MB/s\u001b[0m eta \u001b[36m0:00:00\u001b[0m\n",
            "\u001b[?25hRequirement already satisfied: requests-oauthlib>=0.5.0 in /usr/local/lib/python3.10/dist-packages (from msrest>=0.5.0->azure-cognitiveservices-vision-face) (1.3.1)\n",
            "Requirement already satisfied: requests~=2.16 in /usr/local/lib/python3.10/dist-packages (from msrest>=0.5.0->azure-cognitiveservices-vision-face) (2.31.0)\n",
            "Requirement already satisfied: six>=1.11.0 in /usr/local/lib/python3.10/dist-packages (from azure-core>=1.24.0->msrest>=0.5.0->azure-cognitiveservices-vision-face) (1.16.0)\n",
            "Requirement already satisfied: typing-extensions>=4.6.0 in /usr/local/lib/python3.10/dist-packages (from azure-core>=1.24.0->msrest>=0.5.0->azure-cognitiveservices-vision-face) (4.10.0)\n",
            "Requirement already satisfied: charset-normalizer<4,>=2 in /usr/local/lib/python3.10/dist-packages (from requests~=2.16->msrest>=0.5.0->azure-cognitiveservices-vision-face) (3.3.2)\n",
            "Requirement already satisfied: idna<4,>=2.5 in /usr/local/lib/python3.10/dist-packages (from requests~=2.16->msrest>=0.5.0->azure-cognitiveservices-vision-face) (3.6)\n",
            "Requirement already satisfied: urllib3<3,>=1.21.1 in /usr/local/lib/python3.10/dist-packages (from requests~=2.16->msrest>=0.5.0->azure-cognitiveservices-vision-face) (2.0.7)\n",
            "Requirement already satisfied: oauthlib>=3.0.0 in /usr/local/lib/python3.10/dist-packages (from requests-oauthlib>=0.5.0->msrest>=0.5.0->azure-cognitiveservices-vision-face) (3.2.2)\n",
            "Installing collected packages: azure-common, isodate, azure-core, msrest, azure-cognitiveservices-vision-face\n",
            "Successfully installed azure-cognitiveservices-vision-face-0.6.0 azure-common-1.1.28 azure-core-1.30.1 isodate-0.6.1 msrest-0.7.1\n"
          ]
        }
      ]
    },
    {
      "cell_type": "code",
      "source": [
        "from azure.cognitiveservices.vision.face import FaceClient\n",
        "from msrest.authentication import CognitiveServicesCredentials\n",
        "\n",
        "# Your Face API key and endpoint\n",
        "KEY = \"e03e6b920bb84a5880209628a111c389\"\n",
        "ENDPOINT = \"https://facerecognitionmna24esteban.cognitiveservices.azure.com/\"\n",
        "\n",
        "# Create an instance of the Face API client\n",
        "face_client = FaceClient(ENDPOINT, CognitiveServicesCredentials(KEY))\n",
        "\n",
        "# Direct image URL\n",
        "image_url = \"https://ruta_a_tu_imagen_en_internet.com/imagen.jpg\"\n",
        "\n",
        "# Face detection parameters\n",
        "face_attributes = ['age', 'gender', 'headPose', 'smile', 'facialHair', 'glasses', 'emotion']\n",
        "detected_faces = face_client.face.detect_with_url(url=image_url, return_face_attributes=face_attributes)\n",
        "\n",
        "# Iterate over the detected faces and print the attributes\n",
        "for face in detected_faces:\n",
        "    print(f\"Face ID: {face.face_id}\")\n",
        "    print(f\"Age: {face.face_attributes.age}\")\n",
        "    print(f\"Gender: {face.face_attributes.gender}\")\n",
        "    print(f\"Emotion: {face.face_attributes.emotion}\")\n"
      ],
      "metadata": {
        "colab": {
          "base_uri": "https://localhost:8080/",
          "height": 376
        },
        "id": "Y7RVgh47H7lB",
        "outputId": "680cf384-db50-4799-8185-8cdda90964af"
      },
      "execution_count": 21,
      "outputs": [
        {
          "output_type": "error",
          "ename": "APIErrorException",
          "evalue": "(InvalidRequest) Invalid request has been sent.",
          "traceback": [
            "\u001b[0;31m---------------------------------------------------------------------------\u001b[0m",
            "\u001b[0;31mAPIErrorException\u001b[0m                         Traceback (most recent call last)",
            "\u001b[0;32m<ipython-input-21-df9d860d9840>\u001b[0m in \u001b[0;36m<cell line: 16>\u001b[0;34m()\u001b[0m\n\u001b[1;32m     14\u001b[0m \u001b[0;31m# Face detection parameters\u001b[0m\u001b[0;34m\u001b[0m\u001b[0;34m\u001b[0m\u001b[0m\n\u001b[1;32m     15\u001b[0m \u001b[0mface_attributes\u001b[0m \u001b[0;34m=\u001b[0m \u001b[0;34m[\u001b[0m\u001b[0;34m'age'\u001b[0m\u001b[0;34m,\u001b[0m \u001b[0;34m'gender'\u001b[0m\u001b[0;34m,\u001b[0m \u001b[0;34m'headPose'\u001b[0m\u001b[0;34m,\u001b[0m \u001b[0;34m'smile'\u001b[0m\u001b[0;34m,\u001b[0m \u001b[0;34m'facialHair'\u001b[0m\u001b[0;34m,\u001b[0m \u001b[0;34m'glasses'\u001b[0m\u001b[0;34m,\u001b[0m \u001b[0;34m'emotion'\u001b[0m\u001b[0;34m]\u001b[0m\u001b[0;34m\u001b[0m\u001b[0;34m\u001b[0m\u001b[0m\n\u001b[0;32m---> 16\u001b[0;31m \u001b[0mdetected_faces\u001b[0m \u001b[0;34m=\u001b[0m \u001b[0mface_client\u001b[0m\u001b[0;34m.\u001b[0m\u001b[0mface\u001b[0m\u001b[0;34m.\u001b[0m\u001b[0mdetect_with_url\u001b[0m\u001b[0;34m(\u001b[0m\u001b[0murl\u001b[0m\u001b[0;34m=\u001b[0m\u001b[0mimage_url\u001b[0m\u001b[0;34m,\u001b[0m \u001b[0mreturn_face_attributes\u001b[0m\u001b[0;34m=\u001b[0m\u001b[0mface_attributes\u001b[0m\u001b[0;34m)\u001b[0m\u001b[0;34m\u001b[0m\u001b[0;34m\u001b[0m\u001b[0m\n\u001b[0m\u001b[1;32m     17\u001b[0m \u001b[0;34m\u001b[0m\u001b[0m\n\u001b[1;32m     18\u001b[0m \u001b[0;31m# Iterate over the detected faces and print the attributes\u001b[0m\u001b[0;34m\u001b[0m\u001b[0;34m\u001b[0m\u001b[0m\n",
            "\u001b[0;32m/usr/local/lib/python3.10/dist-packages/azure/cognitiveservices/vision/face/operations/_face_operations.py\u001b[0m in \u001b[0;36mdetect_with_url\u001b[0;34m(self, url, return_face_id, return_face_landmarks, return_face_attributes, recognition_model, return_recognition_model, detection_model, face_id_time_to_live, custom_headers, raw, **operation_config)\u001b[0m\n\u001b[1;32m    545\u001b[0m \u001b[0;34m\u001b[0m\u001b[0m\n\u001b[1;32m    546\u001b[0m         \u001b[0;32mif\u001b[0m \u001b[0mresponse\u001b[0m\u001b[0;34m.\u001b[0m\u001b[0mstatus_code\u001b[0m \u001b[0;32mnot\u001b[0m \u001b[0;32min\u001b[0m \u001b[0;34m[\u001b[0m\u001b[0;36m200\u001b[0m\u001b[0;34m]\u001b[0m\u001b[0;34m:\u001b[0m\u001b[0;34m\u001b[0m\u001b[0;34m\u001b[0m\u001b[0m\n\u001b[0;32m--> 547\u001b[0;31m             \u001b[0;32mraise\u001b[0m \u001b[0mmodels\u001b[0m\u001b[0;34m.\u001b[0m\u001b[0mAPIErrorException\u001b[0m\u001b[0;34m(\u001b[0m\u001b[0mself\u001b[0m\u001b[0;34m.\u001b[0m\u001b[0m_deserialize\u001b[0m\u001b[0;34m,\u001b[0m \u001b[0mresponse\u001b[0m\u001b[0;34m)\u001b[0m\u001b[0;34m\u001b[0m\u001b[0;34m\u001b[0m\u001b[0m\n\u001b[0m\u001b[1;32m    548\u001b[0m \u001b[0;34m\u001b[0m\u001b[0m\n\u001b[1;32m    549\u001b[0m         \u001b[0mdeserialized\u001b[0m \u001b[0;34m=\u001b[0m \u001b[0;32mNone\u001b[0m\u001b[0;34m\u001b[0m\u001b[0;34m\u001b[0m\u001b[0m\n",
            "\u001b[0;31mAPIErrorException\u001b[0m: (InvalidRequest) Invalid request has been sent."
          ]
        }
      ]
    },
    {
      "cell_type": "code",
      "source": [
        "import json, os, requests\n",
        "\n",
        "# Tu clave de suscripción para el servicio de reconocimiento facial de Azure\n",
        "subscription_key = \"3a230d5348fa4476a867ae1ccc281acf\"\n",
        "\n",
        "# La URL del endpoint del servicio de reconocimiento facial de Azure\n",
        "face_api_url = \"https://facerecognitionmna24esteban.cognitiveservices.azure.com/\" + \"face/v1.0/detect\"\n",
        "\n",
        "# La URL de la imagen a analizar\n",
        "image_url = \"https://github.com/cecenjdas/imgMNA/blob/main/faces.jpg?raw=true\"\n",
        "\n",
        "# Los encabezados para la solicitud HTTP\n",
        "headers = {'Ocp-Apim-Subscription-Key': subscription_key}\n",
        "\n",
        "# Los parámetros para la solicitud HTTP\n",
        "params = {\n",
        "    'returnFaceId': 'true',\n",
        "    'returnFaceLandmarks': 'true',\n",
        "    'returnFaceAttributes': 'age,gender,headPose,smile,facialHair,glasses,emotion',\n",
        "}\n",
        "\n",
        "# Envío de la solicitud POST al servicio de reconocimiento facial de Azure\n",
        "response = requests.post(face_api_url, params=params, headers=headers, json={\"url\": image_url})\n",
        "print(json.dumps(response.json()))"
      ],
      "metadata": {
        "colab": {
          "base_uri": "https://localhost:8080/"
        },
        "id": "Brlrd8M4JM92",
        "outputId": "1eb184ee-c2a1-4da7-ef1b-bde0fe4d9153"
      },
      "execution_count": 27,
      "outputs": [
        {
          "output_type": "stream",
          "name": "stdout",
          "text": [
            "{\"error\": {\"code\": \"InvalidRequest\", \"message\": \"Invalid request has been sent.\", \"innererror\": {\"code\": \"UnsupportedFeature\", \"message\": \"Return Attributes (emotion, gender, age, smile, facial hair, hair and makeup) have been deprecated and are no longer supported. For more information, please see https://aka.ms/facerecognition.\"}}}\n"
          ]
        }
      ]
    },
    {
      "cell_type": "code",
      "source": [
        "import json, os, requests\n",
        "\n",
        "# Tu clave de suscripción para el servicio de reconocimiento facial de Azure\n",
        "subscription_key = \"3a230d5348fa4476a867ae1ccc281acf\"\n",
        "\n",
        "# La URL del endpoint del servicio de reconocimiento facial de Azure\n",
        "face_api_url = \"https://facerecognitionmna24esteban.cognitiveservices.azure.com/face/v1.0/detect\"\n",
        "\n",
        "# La URL de la imagen a analizar\n",
        "image_url = \"https://media.gettyimages.com/id/985138660/es/foto/portrait-of-senior-businessman-smiling.jpg?s=2048x2048&w=gi&k=20&c=lXUgkXEFYepZa1rPnEgURslZGfa5QnfHFYj4_iD5dGo=\"\n",
        "\n",
        "# Los encabezados para la solicitud HTTP\n",
        "headers = {'Ocp-Apim-Subscription-Key': subscription_key}\n",
        "\n",
        "# Los parámetros para la solicitud HTTP, actualizados para reflejar solo atributos soportados\n",
        "params = {\n",
        "    'returnFaceId': 'true',\n",
        "    'returnFaceLandmarks': 'true',\n",
        "    # Asumiendo que estos son los atributos aún soportados; revisar la documentación para los actuales\n",
        "    'returnFaceAttributes': 'headPose,glasses',\n",
        "}\n",
        "\n",
        "# Envío de la solicitud POST al servicio de reconocimiento facial de Azure\n",
        "response = requests.post(face_api_url, params=params, headers=headers, json={\"url\": image_url})\n",
        "print(json.dumps(response.json()))\n"
      ],
      "metadata": {
        "colab": {
          "base_uri": "https://localhost:8080/"
        },
        "id": "Eb879FgZK-f8",
        "outputId": "cc074a45-32e7-42a0-ad91-72004a64d385"
      },
      "execution_count": 29,
      "outputs": [
        {
          "output_type": "stream",
          "name": "stdout",
          "text": [
            "{\"error\": {\"code\": \"InvalidRequest\", \"message\": \"Invalid request has been sent.\", \"innererror\": {\"code\": \"UnsupportedFeature\", \"message\": \"Feature is not supported, missing approval for one or more of the following features: Identification,Verification. Please apply for access at https://aka.ms/facerecognition\"}}}\n"
          ]
        }
      ]
    },
    {
      "cell_type": "code",
      "source": [
        "pip install azure-ai-textanalytics\n"
      ],
      "metadata": {
        "colab": {
          "base_uri": "https://localhost:8080/"
        },
        "id": "nVRHBOAKvvli",
        "outputId": "dc2f890e-15be-404f-f720-49b583853f70"
      },
      "execution_count": 1,
      "outputs": [
        {
          "output_type": "stream",
          "name": "stdout",
          "text": [
            "Requirement already satisfied: azure-ai-textanalytics in /usr/local/lib/python3.10/dist-packages (5.3.0)\n",
            "Requirement already satisfied: azure-core<2.0.0,>=1.24.0 in /usr/local/lib/python3.10/dist-packages (from azure-ai-textanalytics) (1.30.1)\n",
            "Requirement already satisfied: azure-common~=1.1 in /usr/local/lib/python3.10/dist-packages (from azure-ai-textanalytics) (1.1.28)\n",
            "Requirement already satisfied: isodate<1.0.0,>=0.6.1 in /usr/local/lib/python3.10/dist-packages (from azure-ai-textanalytics) (0.6.1)\n",
            "Requirement already satisfied: typing-extensions>=4.0.1 in /usr/local/lib/python3.10/dist-packages (from azure-ai-textanalytics) (4.10.0)\n",
            "Requirement already satisfied: requests>=2.21.0 in /usr/local/lib/python3.10/dist-packages (from azure-core<2.0.0,>=1.24.0->azure-ai-textanalytics) (2.31.0)\n",
            "Requirement already satisfied: six>=1.11.0 in /usr/local/lib/python3.10/dist-packages (from azure-core<2.0.0,>=1.24.0->azure-ai-textanalytics) (1.16.0)\n",
            "Requirement already satisfied: charset-normalizer<4,>=2 in /usr/local/lib/python3.10/dist-packages (from requests>=2.21.0->azure-core<2.0.0,>=1.24.0->azure-ai-textanalytics) (3.3.2)\n",
            "Requirement already satisfied: idna<4,>=2.5 in /usr/local/lib/python3.10/dist-packages (from requests>=2.21.0->azure-core<2.0.0,>=1.24.0->azure-ai-textanalytics) (3.6)\n",
            "Requirement already satisfied: urllib3<3,>=1.21.1 in /usr/local/lib/python3.10/dist-packages (from requests>=2.21.0->azure-core<2.0.0,>=1.24.0->azure-ai-textanalytics) (2.0.7)\n",
            "Requirement already satisfied: certifi>=2017.4.17 in /usr/local/lib/python3.10/dist-packages (from requests>=2.21.0->azure-core<2.0.0,>=1.24.0->azure-ai-textanalytics) (2024.2.2)\n"
          ]
        }
      ]
    },
    {
      "cell_type": "code",
      "source": [
        "from azure.ai.textanalytics import TextAnalyticsClient\n",
        "from azure.core.credentials import AzureKeyCredential\n",
        "\n",
        "# Reemplaza 'your-key' y 'your-endpoint' con tus claves y endpoint de Azure\n",
        "key = \"6481d88fb6a1424da21e2d2ed42e5494\"\n",
        "endpoint = \"https://mnatext.cognitiveservices.azure.com/\"\n",
        "\n",
        "# Autenticar el cliente\n",
        "text_analytics_client = TextAnalyticsClient(endpoint=endpoint, credential=AzureKeyCredential(key))\n",
        "\n",
        "# Texto de ejemplo para analizar\n",
        "documents = [ \"I love my new phone! It's the best one I've ever had.\",\n",
        "    \"I'm so disappointed with the service at that restaurant. I'm never going back.\",\n",
        "    \"Wow, that was the best movie I've seen this year! Totally worth it.\",\n",
        "    \"I'm feeling meh about the new update. It didn't really add much to the experience.\",\n",
        "    \"Ugh, I can't believe how bad that product was. A complete waste of money!\"]\n",
        "\n",
        "# Analizar sentimientos\n",
        "response = text_analytics_client.analyze_sentiment(documents=documents)\n",
        "for idx, document in enumerate(response):\n",
        "    print(f\"Document {idx+1} Sentiment: {document.sentiment}\")"
      ],
      "metadata": {
        "colab": {
          "base_uri": "https://localhost:8080/"
        },
        "id": "qFKGTJMmv8xw",
        "outputId": "504aaa75-ffa9-44de-e3a0-6894742d6c2c"
      },
      "execution_count": 3,
      "outputs": [
        {
          "output_type": "stream",
          "name": "stdout",
          "text": [
            "Document 1 Sentiment: positive\n",
            "Document 2 Sentiment: negative\n",
            "Document 3 Sentiment: positive\n",
            "Document 4 Sentiment: negative\n",
            "Document 5 Sentiment: negative\n"
          ]
        }
      ]
    },
    {
      "cell_type": "code",
      "source": [
        "from azure.ai.textanalytics import TextAnalyticsClient\n",
        "from azure.core.credentials import AzureKeyCredential\n",
        "\n",
        "# Reemplaza 'your-key' y 'your-endpoint' con tus claves y endpoint de Azure\n",
        "key = \"6481d88fb6a1424da21e2d2ed42e5494\"\n",
        "endpoint = \"https://mnatext.cognitiveservices.azure.com/\"\n",
        "\n",
        "# Autenticar el cliente\n",
        "text_analytics_client = TextAnalyticsClient(endpoint=endpoint, credential=AzureKeyCredential(key))\n",
        "\n",
        "# Texto de ejemplo para analizar\n",
        "documents = [\"¡Me encanta mi nuevo teléfono! Es el mejor que he tenido\",\n",
        "\"Estoy muy decepcionado con el servicio en ese restaurante. Nunca volveré\",\n",
        "\"¡Guau, esa fue la mejor película que he visto este año! Totalmente vale la pena\",\n",
        "\"Me siento indiferente con la nueva actualización. Realmente no agregó mucho a la experiencia\",\n",
        "\"¡Ugh, no puedo creer lo malo que fue ese producto. ¡Una completa pérdida de dinero!\" ]\n",
        "\n",
        "# Analizar sentimientos\n",
        "response = text_analytics_client.analyze_sentiment(documents=documents)\n",
        "for idx, document in enumerate(response):\n",
        "    print(f\"Document {idx+1} Sentiment: {document.sentiment}\")"
      ],
      "metadata": {
        "colab": {
          "base_uri": "https://localhost:8080/"
        },
        "id": "h59JadoGxlYu",
        "outputId": "4f246e58-a35d-4a3f-f759-2e80a3237b95"
      },
      "execution_count": 4,
      "outputs": [
        {
          "output_type": "stream",
          "name": "stdout",
          "text": [
            "Document 1 Sentiment: positive\n",
            "Document 2 Sentiment: negative\n",
            "Document 3 Sentiment: positive\n",
            "Document 4 Sentiment: negative\n",
            "Document 5 Sentiment: negative\n"
          ]
        }
      ]
    },
    {
      "cell_type": "code",
      "source": [],
      "metadata": {
        "id": "Y497nu3cwuZy"
      },
      "execution_count": null,
      "outputs": []
    }
  ]
}